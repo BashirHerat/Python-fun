{
 "cells": [
  {
   "cell_type": "markdown",
   "id": "7c19ac8a",
   "metadata": {},
   "source": [
    "#### Here I share my understanding of for loops in Python\n",
    "Once you go through this, I will share the code for the cube of random numbers as well. The core of that code is made of for loops, so let's first understand what these are. "
   ]
  },
  {
   "cell_type": "markdown",
   "id": "bee43ece",
   "metadata": {},
   "source": [
    "We want to create a 10x10x10 3D grid (that is, a cube) of random numbers. Our strategy is to **a-** create 10 rows (or columns) **b-** append the 10 of them together to create a 10x10 matrix **c-** repeat this process 10 times to get ten 10x10 matrices **d-** Finally, we put all these matrices on top of each other and get a 10x10x10 cube. \n",
    "\n",
    "See the image in [this link](https://www.researchgate.net/figure/Representation-of-a-matrix-and-a-cube-of-data-from-experimental-measurements_fig4_280679642) to understand the idea better. In this image they start by creating columns, then put the columns together to create a matrix, and finally put the matrices on top of each other to create a cube. It does not matter whether we start by creating columns or rows. Either way we can put them together to create matrices. \n",
    "\n",
    "All rows will be populated (filled) with random numbers between 0 and 100, and we will have a cube/grid of random numbers."
   ]
  },
  {
   "cell_type": "markdown",
   "id": "7e0a5837",
   "metadata": {},
   "source": [
    "To understand this code, you need to understand what a for loop does and how it is implemented in Python. *for loops work with a list of items. They go through each element of the list*. Let's say you have a list of fruits and want to print the names of each:"
   ]
  },
  {
   "cell_type": "code",
   "execution_count": 1,
   "id": "597b9705",
   "metadata": {},
   "outputs": [
    {
     "name": "stdout",
     "output_type": "stream",
     "text": [
      "red apple\n",
      "orange\n",
      "green apple\n",
      "grapes\n"
     ]
    }
   ],
   "source": [
    "fruits = ['red apple', 'orange', 'green apple', 'grapes']\n",
    "\n",
    "for i in fruits:\n",
    "    print(i)"
   ]
  },
  {
   "cell_type": "markdown",
   "id": "0c59e166",
   "metadata": {},
   "source": [
    "The letter i here is a variable name that we choose. It does not matter what you choose, as long as you do not use a Python keyword or function name. So the following works as well:"
   ]
  },
  {
   "cell_type": "code",
   "execution_count": 2,
   "id": "b542a136",
   "metadata": {},
   "outputs": [
    {
     "name": "stdout",
     "output_type": "stream",
     "text": [
      "red apple\n",
      "orange\n",
      "green apple\n",
      "grapes\n"
     ]
    }
   ],
   "source": [
    "fruits = ['red apple', 'orange', 'green apple', 'grapes']\n",
    "\n",
    "for variable_name in fruits:\n",
    "    print(variable_name)"
   ]
  },
  {
   "cell_type": "markdown",
   "id": "f051ab6a",
   "metadata": {},
   "source": [
    "Now let's say we want to do something more meaningful. For exmaple we have a list of numbers and we want to add all together:"
   ]
  },
  {
   "cell_type": "code",
   "execution_count": null,
   "id": "077b615a",
   "metadata": {},
   "outputs": [],
   "source": [
    "numbers = [1, 2, 3, 4, 5]\n",
    "\n",
    "for i in numbers:\n",
    "    sum += i\n",
    "    \n",
    "print(sum) "
   ]
  },
  {
   "cell_type": "markdown",
   "id": "22e92aa4",
   "metadata": {},
   "source": [
    "1+2+3+4+5 should add up to 15, bu if you run the above for loop many times, the sum keeps growing (actually it'll give an error..!). That's obviosuly wrong. To avoid that, we initialize the sum to zero. The correct code is:"
   ]
  },
  {
   "cell_type": "code",
   "execution_count": 4,
   "id": "594dd370",
   "metadata": {},
   "outputs": [
    {
     "name": "stdout",
     "output_type": "stream",
     "text": [
      "15\n"
     ]
    }
   ],
   "source": [
    "numbers = [1, 2, 3, 4, 5]\n",
    "\n",
    "sum = 0\n",
    "\n",
    "for i in numbers:\n",
    "    sum += i\n",
    "    \n",
    "print(sum) "
   ]
  },
  {
   "cell_type": "markdown",
   "id": "2814c8a8",
   "metadata": {},
   "source": [
    "It does not matter how many times you run the above for loop, you always get the same - correct - answer. "
   ]
  },
  {
   "cell_type": "markdown",
   "id": "fdb91389",
   "metadata": {},
   "source": [
    "**Importance of spacing:** all the lines that are to be implemented within each iteration of the for loop should be indented (using the Tab key). See how this code acts differently because *print(sum)* is indented, which means it is run in every interation of the for loop:"
   ]
  },
  {
   "cell_type": "code",
   "execution_count": 5,
   "id": "e3261f9f",
   "metadata": {},
   "outputs": [
    {
     "name": "stdout",
     "output_type": "stream",
     "text": [
      "1\n",
      "3\n",
      "6\n",
      "10\n",
      "15\n"
     ]
    }
   ],
   "source": [
    "numbers = [1, 2, 3, 4, 5]\n",
    "\n",
    "sum = 0\n",
    "\n",
    "for i in numbers:\n",
    "    sum += i\n",
    "    print(sum) "
   ]
  },
  {
   "cell_type": "markdown",
   "id": "e92c4776",
   "metadata": {},
   "source": [
    "Why? Because the loop adds 1 to *sum* (which is initially 0) and prints the result. In the next iteration it adds 2 to the *sum* (now 1) and prints the result (3); in the next iteration it adds 3 and prints the result which is 6 and so on. **Make sure you understand this:** why it prints 1, 3, 6, 10 and 15. "
   ]
  },
  {
   "cell_type": "markdown",
   "id": "a7735583",
   "metadata": {},
   "source": [
    "#### Nested for loops\n",
    "We can have a for loop within a for loop. What does this mean and why do we need it? Think about how clocks keep time. Clocks have a seconds counter, a minutes counter and an hours counter. The seconds counter is the inner most loop: it goes through all (60) its iterations before the minutes and hours for loops count. It counts seconds from 1 to 60 while the minutes and hours counters do nothing. When it hits 60 seconds, the minutes counter goes up by +1 (and the seconds re-start from 1). These two cycles are repeated until the minutes go up to 60. Then the hours counter goes up by +1. By the time one hour has passed, the minutes counter has iterated 60 times and the seconds counter has iterated by 60x60 = 3600 times. \n",
    "\n",
    "Let's look at an example. Let's say we define a matrix and want to multiply every one of its element by 2 and print the result. This code does not work:"
   ]
  },
  {
   "cell_type": "code",
   "execution_count": 6,
   "id": "65469a7e",
   "metadata": {},
   "outputs": [
    {
     "name": "stdout",
     "output_type": "stream",
     "text": [
      "[1, 2, 3, 1, 2, 3]\n",
      "[4, 5, 6, 4, 5, 6]\n",
      "[7, 8, 9, 7, 8, 9]\n"
     ]
    }
   ],
   "source": [
    "matrix = [[1, 2, 3], [4, 5, 6], [7, 8, 9]]\n",
    "\n",
    "for row in matrix:\n",
    "        print(row * 2)"
   ]
  },
  {
   "cell_type": "markdown",
   "id": "38542675",
   "metadata": {},
   "source": [
    "Instead we need two loops; one that iterates over the rows and another that, for each row, iterates over the elements of that column. We have to first take the first row, multiply its elements by 2 and print the result. Then we pick the second row and multiply each of its elements by 2 and print. Then repeat this for row three...\n",
    "\n",
    "We need one loop that iterates (goes through) the elements of a row. We need another loop that iterates through the rows:"
   ]
  },
  {
   "cell_type": "code",
   "execution_count": 7,
   "id": "1a6866a3",
   "metadata": {},
   "outputs": [
    {
     "name": "stdout",
     "output_type": "stream",
     "text": [
      "2 4 6 \n",
      "8 10 12 \n",
      "14 16 18 \n"
     ]
    }
   ],
   "source": [
    "matrix = [[1, 2, 3], [4, 5, 6], [7, 8, 9]]\n",
    "\n",
    "for row in matrix:    # this line picks a row\n",
    "    for element in row: # this is the inner loop which iterates through the elements of the picked row\n",
    "        print(element * 2, end=' ')   # this line multiples each element of the picked row by 2 and prints the result. \n",
    "    print()   # this line prints all the results together\n",
    "    \n",
    "# don't worry about the end= ''. It just adds spacing after each 'element * 2' result is printed.\n",
    "# Without it the result is 123 -with no spacing"
   ]
  },
  {
   "cell_type": "markdown",
   "id": "6eaa7fe2",
   "metadata": {},
   "source": [
    "You need to practice for loops as they are used quite often. Let me know what questions you have about for loops. "
   ]
  },
  {
   "cell_type": "code",
   "execution_count": null,
   "id": "701933f6-b543-4623-a89c-ca0385c8f82a",
   "metadata": {},
   "outputs": [],
   "source": []
  }
 ],
 "metadata": {
  "kernelspec": {
   "display_name": "Python 3 (ipykernel)",
   "language": "python",
   "name": "python3"
  },
  "language_info": {
   "codemirror_mode": {
    "name": "ipython",
    "version": 3
   },
   "file_extension": ".py",
   "mimetype": "text/x-python",
   "name": "python",
   "nbconvert_exporter": "python",
   "pygments_lexer": "ipython3",
   "version": "3.12.1"
  }
 },
 "nbformat": 4,
 "nbformat_minor": 5
}
