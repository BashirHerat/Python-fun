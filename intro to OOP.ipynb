{
 "cells": [
  {
   "cell_type": "markdown",
   "id": "b149b45f",
   "metadata": {},
   "source": [
    "This is my effort to understand **object oriented programing** in Python. In OOP, we have classes and objects. \n",
    "\n",
    "Think of a class as a blueprint for a house. The house is the object that's made as per the blueprint. You can create many houses (objects) using the same class (blueprint). Blueprint has properties such as the layout, number of rooms and size of the house. Once the house is built, it inerites those properties but also has properties of its own such as address, owner and furniture.\n",
    "\n",
    "Properties are called <u>attributes</u>. When you define a class, you decide what its attributes are. All objects in that class inherit those attributes.\n",
    "\n",
    "Another way to think about this: consider a class to be a mold, and objects are what's made using this mold. So the mold and the objects produced using it both have attributes such as width and length. The objects can have extra properties like their color, weight etc. \n",
    "\n",
    "In brief, the user usually defines the class and decides what its attributes should be. You can then define instances (i.e. objects) of the class. The objects will have the same attributes. We can then assign values to these attributes. \n",
    "\n",
    "For example, we create a class called Person. We decide that this class should have attributes name, age and hobby. Now we create a specific person, called person_one, as an instance or object of this class and set its attributes to Jane, 30, golf. See? An object is an example/instance of the class where attributes take specific values. We can create another instance of this class, called person_two, and assign the values Jalil, 29, football for its attributes. \n",
    "\n",
    "Python has built-in classes such as list and dict. User defined classes can use attributes and methods from built in classes. In technical terms we say the user defined class inherits the built-in class's attributes & methods. \n",
    "\n",
    "OOP provides a way to structure code and create reusable components that can be used throughout an application or system. By organizing code into classes and objects, we can create a more flexible program structure, with better abstraction and encapsulation."
   ]
  },
  {
   "cell_type": "markdown",
   "id": "a097c0b4",
   "metadata": {},
   "source": [
    "A Class has methods (functions). Objects in the class have the same methods. These methods define the behaviour of the object. Let's look at an example:"
   ]
  },
  {
   "cell_type": "code",
   "execution_count": 2,
   "id": "6a3d02fa",
   "metadata": {},
   "outputs": [
    {
     "name": "stdout",
     "output_type": "stream",
     "text": [
      "My name is Mr. ME and I like golf.\n"
     ]
    }
   ],
   "source": [
    "class Person: \n",
    "    def __init__(self, name, age, hobby): # __init__ is a method present in almost all classes, used to initialize attributes\n",
    "        self.name = name\n",
    "        self.age = age\n",
    "        self.hobby = hobby\n",
    "        \n",
    "    def say_hello(self):  # this is a method/function that takes name and hobby and prints them. \n",
    "        print(f\"My name is {self.name} and I like {self.hobby}.\")\n",
    "    \n",
    "# create an object of the class Person\n",
    "person1 = Person('Mr. ME', 30, 'golf')\n",
    "\n",
    "# call the say_hello() method on person1\n",
    "person1.say_hello()"
   ]
  },
  {
   "cell_type": "markdown",
   "id": "8ec5112b",
   "metadata": {},
   "source": [
    "Above, the __init__ method is used to initialize the attributes. It's called a **constructor**. \n",
    "\n",
    "The reason we add <u>self</u> is to show that our method is not a regular function. It is a method (function) defined specifically for our objects in this class."
   ]
  },
  {
   "cell_type": "markdown",
   "id": "e03d75a1",
   "metadata": {},
   "source": [
    "Now let's do a simple exercise. Let's create a Rectangle class with attributes length and width, and methods to calculate its area and perimeter. You can define the class and its methods in any way you like."
   ]
  },
  {
   "cell_type": "code",
   "execution_count": 3,
   "id": "48c1dc75",
   "metadata": {},
   "outputs": [
    {
     "name": "stdout",
     "output_type": "stream",
     "text": [
      "this rectangle's area is 18 and its perimeter is 18\n"
     ]
    }
   ],
   "source": [
    "# first define the class rectangle and its properties (width, lnegth) and methods (how area and perimeter is calculated)\n",
    "class Rectangle:\n",
    "    def __init__(self, length, width):\n",
    "        self.width = width\n",
    "        self.length = length\n",
    "    \n",
    "    def perimeter(self):\n",
    "        perimeter = (self.length + self.width) * 2\n",
    "        return perimeter\n",
    "    \n",
    "    def area(self):\n",
    "        area = self.length * self.width\n",
    "        return area\n",
    "\n",
    "# now define one specific instance/example/object of the class\n",
    "\n",
    "rectangle_one = Rectangle(6, 3)\n",
    "print(f\"this rectangle's area is {rectangle_one.area()} and its perimeter is {rectangle_one.perimeter()}\")"
   ]
  },
  {
   "cell_type": "markdown",
   "id": "bc431995",
   "metadata": {},
   "source": [
    "We can define a class and have it inherit the attributes and methods of a built-in class. Built-in classes are ones that already exist in Python.\n",
    "\n",
    "BaseEstimator is a built-in class and has fit and tranform methods. Below, when we define class AddMeanEstimator and pass the built-in BaseEstimator as its argument, we are essentially saying 'let's use BaseEstimator, but under this name AddMeanEstimator!'"
   ]
  },
  {
   "cell_type": "markdown",
   "id": "e147e4ed",
   "metadata": {},
   "source": [
    "An example where we use fit and transform."
   ]
  },
  {
   "cell_type": "code",
   "execution_count": 4,
   "id": "fb5f7333",
   "metadata": {},
   "outputs": [
    {
     "name": "stdout",
     "output_type": "stream",
     "text": [
      "   sepal length (cm)  sepal width (cm)  petal length (cm)  petal width (cm)\n",
      "0          10.943333          6.557333              5.158          1.399333\n",
      "1          10.743333          6.057333              5.158          1.399333\n",
      "2          10.543333          6.257333              5.058          1.399333\n",
      "3          10.443333          6.157333              5.258          1.399333\n",
      "4          10.843333          6.657333              5.158          1.399333\n"
     ]
    }
   ],
   "source": [
    "from sklearn.datasets import load_iris\n",
    "import pandas as pd\n",
    "from sklearn.base import BaseEstimator\n",
    "\n",
    "# Load the iris dataset into a pandas DataFrame\n",
    "iris = load_iris()\n",
    "df = pd.DataFrame(data=iris.data, columns=iris.feature_names)\n",
    "\n",
    "# Define an estimator class that adds the mean of each column to the corresponding column\n",
    "class AddMeanEstimator(BaseEstimator):\n",
    "    \n",
    "    def __init__(self):\n",
    "        pass\n",
    "        \n",
    "    def fit(self, X, y=None):\n",
    "        self.means = X.mean()\n",
    "        return self\n",
    "    \n",
    "    def transform(self, X, y=None):\n",
    "        return X + self.means\n",
    "\n",
    "    def fit_transform(self, X, y=None):\n",
    "        self.fit(X)\n",
    "        return self.transform(X)\n",
    "\n",
    "# Create an instance of the estimator and fit/transform the data\n",
    "estimator = AddMeanEstimator()\n",
    "transformed = estimator.fit_transform(df)\n",
    "\n",
    "print(transformed.head())"
   ]
  },
  {
   "cell_type": "markdown",
   "id": "cfc7b508",
   "metadata": {},
   "source": [
    "In scikit-learn, the fit method is used to fit the estimator to the input data. In supervised learning, such as classification or regression, there is often an additional target variable y that needs to be provided to the fit method. However, not all estimators require a target variable y for fitting, so the y=None argument provides a default value of None for y.\n",
    "\n",
    "For unsupervised learning tasks, such as clustering or dimensionality reduction, y is not used in the fitting process, so y=None is used to make the fit method work for both supervised and unsupervised learning tasks.\n",
    "\n",
    "in a real estimator, the fit method would typically learn some kind of model or algorithm from the input data. The transform method then applies this learned model to new data to produce a transformed output. The fit_transform method combines the fit and transform steps into a single method for convenience.\n",
    "\n",
    "BaseEstimator is a base class. a base class is a class from which other classes are derived or inherited."
   ]
  },
  {
   "cell_type": "markdown",
   "id": "6e8e6bcf",
   "metadata": {},
   "source": [
    "Why do we need OOP anyways?"
   ]
  },
  {
   "cell_type": "markdown",
   "id": "5cb62670",
   "metadata": {},
   "source": [
    "Understanding how to define classes and create objects is a fundamental part of object-oriented programming, but there is a lot more to OOP than just that. To really understand OOP, you need to understand concepts such as inheritance, polymorphism, encapsulation, and abstraction.\n",
    "\n",
    "<u>Inheritance</u> refers to the ability of a class to inherit properties and methods from a parent class. This can help with code reuse and organization.\n",
    "\n",
    "<u>Polymorphism</u> refers to the ability of an object to take on many forms. In OOP, polymorphism is often achieved through the use of inheritance and interfaces.\n",
    "\n",
    "<u>Encapsulation</u> refers to the practice of hiding the internal details of an object and exposing only the necessary information. This can help to prevent other parts of the program from accidentally modifying the object's state.\n",
    "\n",
    "<u>Abstraction</u> refers to the process of creating a simplified view of an object or system, focusing only on the relevant details and ignoring everything else. This can help to make complex systems more manageable and easier to understand."
   ]
  }
 ],
 "metadata": {
  "kernelspec": {
   "display_name": "Python 3 (ipykernel)",
   "language": "python",
   "name": "python3"
  },
  "language_info": {
   "codemirror_mode": {
    "name": "ipython",
    "version": 3
   },
   "file_extension": ".py",
   "mimetype": "text/x-python",
   "name": "python",
   "nbconvert_exporter": "python",
   "pygments_lexer": "ipython3",
   "version": "3.12.1"
  }
 },
 "nbformat": 4,
 "nbformat_minor": 5
}
